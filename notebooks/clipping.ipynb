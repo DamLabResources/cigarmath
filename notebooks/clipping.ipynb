{
 "cells": [
  {
   "cell_type": "code",
   "execution_count": null,
   "id": "49554a21-99c0-4af3-b085-f9fc925cfca3",
   "metadata": {
    "tags": []
   },
   "outputs": [],
   "source": [
    "import sys\n",
    "sys.path.append('../')\n",
    "\n",
    "import cigarmath as cm"
   ]
  },
  {
   "cell_type": "markdown",
   "id": "25fd7fb6-4004-4455-8158-d69717cbf95e",
   "metadata": {},
   "source": [
    "# Clipping"
   ]
  },
  {
   "cell_type": "markdown",
   "id": "a77f1a75-e7cd-4817-84e1-5d820432f48b",
   "metadata": {},
   "source": [
    "## Basics"
   ]
  },
  {
   "cell_type": "markdown",
   "id": "b601b08e-7088-4a39-981d-96b92eaa41c1",
   "metadata": {},
   "source": [
    "When performing a local-alignment you are asking which **regions** of the query map to which **regions** of the reference.\n",
    "This often leads to instances where the leading and trailing ends of the query sequence are not included in the alignment.\n",
    "Take the example below:"
   ]
  },
  {
   "cell_type": "raw",
   "id": "dc5dda6c-a172-4930-98ce-c923f99d9c33",
   "metadata": {},
   "source": [
    "POS  01234567890123456789012345\n",
    "\n",
    "REF  ABCDEFGHIJKLMNOPQRSTUVWXYZ\n",
    "QUE    xxxxxHIJKLMNOPyyyy\n",
    "CIG    SSSSSMMMMMMMMMSSSS\n",
    "\n",
    "cigar: 5S 9M 4S"
   ]
  },
  {
   "cell_type": "code",
   "execution_count": null,
   "id": "c1db6337-5698-436e-bc76-bfd345e4a169",
   "metadata": {
    "tags": []
   },
   "outputs": [
    {
     "data": {
      "text/plain": [
       "[(4, 5), (0, 9), (4, 4)]"
      ]
     },
     "execution_count": null,
     "metadata": {},
     "output_type": "execute_result"
    }
   ],
   "source": [
    "cigartuples = cm.cigarstr2tup('5S9M4S')\n",
    "cigartuples"
   ]
  },
  {
   "cell_type": "markdown",
   "id": "fcee58b6-2370-4e80-9962-6ef77cc6ab4b",
   "metadata": {},
   "source": [
    "`cigarmath` provides a number of functions to handle clippings.\n",
    "\n",
    "`left_clipping` and `right_clipping` returns the upstream and downstream clipping respectively."
   ]
  },
  {
   "cell_type": "code",
   "execution_count": null,
   "id": "c4cabba4-c743-40fa-8ec8-aea62745cf2e",
   "metadata": {
    "tags": []
   },
   "outputs": [
    {
     "data": {
      "text/plain": [
       "5"
      ]
     },
     "execution_count": null,
     "metadata": {},
     "output_type": "execute_result"
    }
   ],
   "source": [
    "cm.left_clipping(cigartuples)"
   ]
  },
  {
   "cell_type": "code",
   "execution_count": null,
   "id": "320881a1-f617-46ec-bde9-af8e0c117503",
   "metadata": {
    "tags": []
   },
   "outputs": [
    {
     "data": {
      "text/plain": [
       "4"
      ]
     },
     "execution_count": null,
     "metadata": {},
     "output_type": "execute_result"
    }
   ],
   "source": [
    "cm.right_clipping(cigartuples)"
   ]
  },
  {
   "cell_type": "markdown",
   "id": "8d445a85-a217-44c1-8ad3-8e17e759ba30",
   "metadata": {},
   "source": [
    "`declip` will remove left and right clippings returning only the _meat_ of the alignment."
   ]
  },
  {
   "cell_type": "code",
   "execution_count": null,
   "id": "f8dda013-aa25-4c63-83e0-4a2494e6e20d",
   "metadata": {
    "tags": []
   },
   "outputs": [
    {
     "data": {
      "text/plain": [
       "[(0, 9)]"
      ]
     },
     "execution_count": null,
     "metadata": {},
     "output_type": "execute_result"
    }
   ],
   "source": [
    "cm.declip(cigartuples)"
   ]
  },
  {
   "cell_type": "markdown",
   "id": "24c2adcd-5248-4d59-8f0e-5e503c5d0b7d",
   "metadata": {},
   "source": [
    "You can also provide a set of sequences or lists along with your cigartuples and they will be clipped accordingly.\n",
    "This is useful if you are trying to isolate the sequence relevant to the alignment."
   ]
  },
  {
   "cell_type": "code",
   "execution_count": null,
   "id": "788bd407-a2d4-416d-af15-5063b2227a83",
   "metadata": {
    "tags": []
   },
   "outputs": [
    {
     "name": "stdout",
     "output_type": "stream",
     "text": [
      "5 -4\n"
     ]
    },
    {
     "data": {
      "text/plain": [
       "([(0, 9)], 'HIJKLMNOP', [3, 3, 3, 3, 3, 3, 3, 3, 3])"
      ]
     },
     "execution_count": null,
     "metadata": {},
     "output_type": "execute_result"
    }
   ],
   "source": [
    "\n",
    "# Hypothetical sequence and quality scores\n",
    "seq = 'xxxxxHIJKLMNOPyyyy'\n",
    "quals = [1,1,1,1,1,3,3,3,3,3,3,3,3,3,2,2,2,2]\n",
    "\n",
    "# Provide along with the cigartuples\n",
    "cm.declip(cigartuples, seq, quals)"
   ]
  },
  {
   "cell_type": "markdown",
   "id": "560dec1a-7dec-4ee7-802e-ba2549abe265",
   "metadata": {},
   "source": [
    "## Hard Clipping"
   ]
  },
  {
   "cell_type": "markdown",
   "id": "bbfa56e0-56fe-483b-89d7-ea5ff6daa558",
   "metadata": {},
   "source": [
    "The `xxxxx` and `yyyy` ends are not considered part of the alignment.\n",
    "In Next Generation Sequencing (NGS) this is usually due to adapters added to either side to facilitate sequencing.\n",
    "In long-read sequencing it can also be present when a query's alignment is split arross multiple alignments.\n",
    "Take the example below:"
   ]
  },
  {
   "cell_type": "raw",
   "id": "bc3f67df-e3ef-4f5e-8d1a-8b4655a78bc7",
   "metadata": {},
   "source": [
    "\n",
    "REF  ABCDEFGHIJKLMNOPQRSTUVWXYZggggggggggABCDEFGHIJKLMNOPQRSTUVWXYZ\n",
    "QUE    xxxxxHIJKLMNOP--------------------ABCDEyyy\n",
    "\n",
    "Minimap may split into two alignmnets, like so:\n",
    "\n",
    "REF  ABCDEFGHIJKLMNOPQRSTUVWXYZggggggggggABCDEFGHIJKLMNOPQRSTUVWXYZ\n",
    "QUE    xxxxxHIJKLMNOP--------------------ABCDEyyy\n",
    "AL1    SSSSSMMMMMMMMM                    SSSSSSSS\n",
    "AL2    HHHHHHHHHHHHHH                    MMMMMHHH"
   ]
  },
  {
   "cell_type": "markdown",
   "id": "9dc54aab-b9dd-463b-b55a-080a0a2df8aa",
   "metadata": {},
   "source": [
    "This is called a _supplementary alignment_.\n",
    "In this instance instead of providing one large alignment, the algorithm has instead produced two local alignments.\n",
    "In the case of most tools, it will also **hard clip** the sequence by removing the unneeded sequence from the query sequence stored in the SAM/BAM file.\n",
    "This can save a great deal of space."
   ]
  },
  {
   "cell_type": "markdown",
   "id": "f0b9d919-637f-4240-b1eb-f2adc5dbabc9",
   "metadata": {},
   "source": [
    "`is_hard_clipped` can be used to determine whether a sequence has been hard_clipped."
   ]
  },
  {
   "cell_type": "code",
   "execution_count": null,
   "id": "fd032ec0-4010-4470-830b-38a933533387",
   "metadata": {
    "tags": []
   },
   "outputs": [
    {
     "data": {
      "text/plain": [
       "True"
      ]
     },
     "execution_count": null,
     "metadata": {},
     "output_type": "execute_result"
    }
   ],
   "source": [
    "cm.is_hard_clipped(cm.cigarstr2tup('5H9M4H'))"
   ]
  },
  {
   "cell_type": "markdown",
   "id": "99b23110-814d-4a6b-9b44-c55b6be27ab7",
   "metadata": {},
   "source": [
    "## Clippify"
   ]
  },
  {
   "cell_type": "markdown",
   "id": "d74be61c-3218-4d20-8ee7-74f2c0b9a2f0",
   "metadata": {},
   "source": [
    "When performing a **global** alignment with long-read data, sometimes due to the addition of adapters,\n",
    "the ends of the alignment are untrust-worthy.\n",
    "This can be corrected by approximating a local-alignemnt from this global alignment."
   ]
  },
  {
   "cell_type": "raw",
   "id": "ff8703f4-953a-49bc-bbb9-05a6dcf01133",
   "metadata": {},
   "source": [
    "REF    --AAAAGACCCCCGACTCGTTA---\n",
    "QUE    tt----AACCCCCGAC----tagca\n",
    "CIG    IIDDDDMMMMMMMMMMDDDDMMIII"
   ]
  },
  {
   "cell_type": "markdown",
   "id": "f771bbca-1596-472e-9182-e092e8c2e328",
   "metadata": {},
   "source": [
    "In the above the lowercase query letters are _technical sequences_ and not relevant to the alignment.\n",
    "However, global alignment tools like `muscle` and `mafft` cannot clip these ends.\n",
    "`cm.softclipify` wsa designed for this purpose.\n",
    "\n",
    "This tool will read _in_ from each end, and consume cigartuples until it reaches a **mapping** block of a definable size.\n",
    "Then, all end sequences are marked as soft-clipped.\n",
    "Reconsider our example:"
   ]
  },
  {
   "cell_type": "raw",
   "id": "32b4717d-e64e-4559-8f9f-149384a1535d",
   "metadata": {},
   "source": [
    "REF    --AAAAGACCCCCGACTCGTTA---\n",
    "QUE    tt----AACCCCCGAC----tagca\n",
    "CIG    IIDDDDMMMMMMMMMMDDDDMMIII\n",
    "OUT    SS    MMMMMMMMMMDDDDMMSSS required_mapping = 1\n",
    "OUT    SS    MMMMMMMMMM    SSSSS required_mapping = 4"
   ]
  },
  {
   "cell_type": "code",
   "execution_count": null,
   "id": "32a3023c-05d3-4f79-aac9-1f031f8e83ec",
   "metadata": {
    "tags": []
   },
   "outputs": [
    {
     "name": "stdout",
     "output_type": "stream",
     "text": [
      "Reference Offset: 4\n",
      "CIGAR: 3S10M4D2M3S\n"
     ]
    }
   ],
   "source": [
    "new_tuples, new_offset = cm.softclipify(cm.cigarstr2tup('3I4D10M4D2M3I'))\n",
    "print('Reference Offset:', new_offset)\n",
    "print('CIGAR:', cm.cigartup2str(new_tuples))"
   ]
  },
  {
   "cell_type": "code",
   "execution_count": null,
   "id": "8cdb4f97-e8b7-4644-860b-0e45b2e03c0e",
   "metadata": {
    "tags": []
   },
   "outputs": [
    {
     "name": "stdout",
     "output_type": "stream",
     "text": [
      "Reference Offset: 4\n",
      "CIGAR: 3S10M5S\n"
     ]
    }
   ],
   "source": [
    "# You can also specify the size of the mapping block that will 'lock' the local alignment\n",
    "new_tuples, new_offset = cm.softclipify(cm.cigarstr2tup('3I4D10M4D2M3I'),\n",
    "                                        required_mapping=4)\n",
    "print('Reference Offset:', new_offset)\n",
    "print('CIGAR:', cm.cigartup2str(new_tuples))"
   ]
  },
  {
   "cell_type": "markdown",
   "id": "227b9725-74a1-4952-a917-0f81865f594d",
   "metadata": {},
   "source": [
    "# Conclusion"
   ]
  },
  {
   "cell_type": "markdown",
   "id": "cd047d69-4eaf-4691-a2a6-65101b55803d",
   "metadata": {},
   "source": [
    "Together, these functions provide a number of useful building blocks for more complex algorithms when handling clipping in CIGARs."
   ]
  },
  {
   "cell_type": "code",
   "execution_count": null,
   "id": "13104606-3b2d-4b4c-9d7f-73356c836387",
   "metadata": {},
   "outputs": [],
   "source": []
  }
 ],
 "metadata": {
  "kernelspec": {
   "display_name": "Python 3 (ipykernel)",
   "language": "python",
   "name": "python3"
  },
  "language_info": {
   "codemirror_mode": {
    "name": "ipython",
    "version": 3
   },
   "file_extension": ".py",
   "mimetype": "text/x-python",
   "name": "python",
   "nbconvert_exporter": "python",
   "pygments_lexer": "ipython3",
   "version": "3.9.15"
  }
 },
 "nbformat": 4,
 "nbformat_minor": 5
}
