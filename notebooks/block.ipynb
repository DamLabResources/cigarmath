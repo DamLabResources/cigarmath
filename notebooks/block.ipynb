{
 "cells": [
  {
   "cell_type": "code",
   "execution_count": null,
   "id": "0f639042-d788-4425-af95-60e29cbd8cf9",
   "metadata": {
    "tags": []
   },
   "outputs": [],
   "source": [
    "import sys\n",
    "sys.path.append('../')\n",
    "\n",
    "import cigarmath as cm"
   ]
  },
  {
   "cell_type": "markdown",
   "id": "ea6a545f-1f1f-4418-a63b-dbb8fce63251",
   "metadata": {},
   "source": [
    "# Blocks"
   ]
  },
  {
   "cell_type": "markdown",
   "id": "e6205bdb-2494-4cfb-9032-f3ee7c738d02",
   "metadata": {},
   "source": [
    "In this context, a **block** is refering to a continious region of a sequence usually denoted as a pair of tuples."
   ]
  },
  {
   "cell_type": "raw",
   "id": "7c598111-ab68-49a1-a296-9993ad8798c7",
   "metadata": {},
   "source": [
    "RUL  123456789012345\n",
    "SEQ  ABCDEFGHIJKLMON\n",
    "BLK    MMMMMMMMMM\n",
    "\n",
    "block = (3, 12)"
   ]
  },
  {
   "cell_type": "markdown",
   "id": "b17bb44b-eaa4-45bb-9382-175444f1566f",
   "metadata": {},
   "source": [
    "## Alignment Blocks"
   ]
  },
  {
   "cell_type": "markdown",
   "id": "4a2f784c-1539-4075-9952-b455dc897a7e",
   "metadata": {},
   "source": [
    "Often, when provided with a set of cigartuples we want to know the start,end positions on the reference and the query sequence.\n",
    "`cigarmath` provides a number of tools for this purpose.\n",
    "\n",
    "Consider the following alignment example:"
   ]
  },
  {
   "cell_type": "raw",
   "id": "2838c878-18c4-46f9-be6d-159716032520",
   "metadata": {},
   "source": [
    "RPOS  01234567890  12345678\n",
    " REF  gggAAAAGACC--CCCagcta\n",
    " QRY     AAAA-ACCGGCCC\n",
    "QPOS  0123456 789012345678\n",
    " CGS  HHHMMMMDMMMIIMMMHHHH\n",
    " CGT  3H 4M 1D3M 2I 3M 4H"
   ]
  },
  {
   "cell_type": "code",
   "execution_count": null,
   "id": "7803961f-594a-4a7d-b698-ebd449508770",
   "metadata": {
    "tags": []
   },
   "outputs": [],
   "source": [
    "cigartuples = cm.cigarstr2tup('3H4M1D3M2I3M4H')\n",
    "reference_start = 3"
   ]
  },
  {
   "cell_type": "markdown",
   "id": "2a7a9da3-3dcb-45e1-823a-c8dd87e65843",
   "metadata": {},
   "source": [
    "First, we may want to know where on the reference this read aligns to.\n",
    "Our aligner will provide us with a **reference_start** but not a reference end."
   ]
  },
  {
   "cell_type": "code",
   "execution_count": null,
   "id": "361df7b0-9f0f-424a-8eec-7baab66207e5",
   "metadata": {
    "tags": []
   },
   "outputs": [
    {
     "data": {
      "text/plain": [
       "11"
      ]
     },
     "execution_count": null,
     "metadata": {},
     "output_type": "execute_result"
    }
   ],
   "source": [
    "# Length of the block along the reference\n",
    "cm.reference_offset(cigartuples)"
   ]
  },
  {
   "cell_type": "code",
   "execution_count": null,
   "id": "3d4539fe-b438-4699-8bdf-5d10d83c4eb3",
   "metadata": {
    "tags": []
   },
   "outputs": [
    {
     "data": {
      "text/plain": [
       "(3, 14)"
      ]
     },
     "execution_count": null,
     "metadata": {},
     "output_type": "execute_result"
    }
   ],
   "source": [
    "# Or as a block\n",
    "cm.reference_block(cigartuples, reference_start=reference_start)"
   ]
  },
  {
   "cell_type": "markdown",
   "id": "8fa1cacf-6b69-4cf1-ba17-7182bec87b61",
   "metadata": {},
   "source": [
    "The same can be done on the query side of the alignment.\n",
    "The aligner will provide none of these values."
   ]
  },
  {
   "cell_type": "code",
   "execution_count": null,
   "id": "37d548f0-3381-4880-ba36-4d6664ada6bf",
   "metadata": {
    "tags": []
   },
   "outputs": [
    {
     "data": {
      "text/plain": [
       "3"
      ]
     },
     "execution_count": null,
     "metadata": {},
     "output_type": "execute_result"
    }
   ],
   "source": [
    "# This is just the left_clipping but included for consistency\n",
    "cm.query_start(cigartuples)"
   ]
  },
  {
   "cell_type": "code",
   "execution_count": null,
   "id": "5daab228-db4c-42b5-9696-8881deb03e99",
   "metadata": {
    "tags": []
   },
   "outputs": [
    {
     "data": {
      "text/plain": [
       "12"
      ]
     },
     "execution_count": null,
     "metadata": {},
     "output_type": "execute_result"
    }
   ],
   "source": [
    "# The length of the block along the query\n",
    "cm.query_offset(cigartuples)"
   ]
  },
  {
   "cell_type": "code",
   "execution_count": null,
   "id": "3bbbbfa7-48fc-43f5-9bd4-8532aff20c88",
   "metadata": {
    "tags": []
   },
   "outputs": [
    {
     "data": {
      "text/plain": [
       "(3, 15)"
      ]
     },
     "execution_count": null,
     "metadata": {},
     "output_type": "execute_result"
    }
   ],
   "source": [
    "# The start/end location of the the block along the query\n",
    "cm.query_block(cigartuples)"
   ]
  },
  {
   "cell_type": "markdown",
   "id": "ce37eb2b-e72c-47bc-88ce-6c6adeee693b",
   "metadata": {},
   "source": [
    "Often times there is a need to calculate the overlap (or not) of different blocks.\n",
    "`block_overlap_length` can be given two blocks and it will caluculate the amount of overlap."
   ]
  },
  {
   "cell_type": "code",
   "execution_count": null,
   "id": "6b1261ca-da6d-4043-8639-3bb21352a1aa",
   "metadata": {
    "tags": []
   },
   "outputs": [
    {
     "data": {
      "text/plain": [
       "3"
      ]
     },
     "execution_count": null,
     "metadata": {},
     "output_type": "execute_result"
    }
   ],
   "source": [
    "cm.block_overlap_length((5, 10), (7, 13))"
   ]
  },
  {
   "cell_type": "code",
   "execution_count": null,
   "id": "4eef89fa-1b6a-4547-9cff-1a9f72bbda81",
   "metadata": {
    "tags": []
   },
   "outputs": [
    {
     "data": {
      "text/plain": [
       "3"
      ]
     },
     "execution_count": null,
     "metadata": {},
     "output_type": "execute_result"
    }
   ],
   "source": [
    "# They can also be provided in any order\n",
    "cm.block_overlap_length((7, 13), (5, 10))"
   ]
  },
  {
   "cell_type": "code",
   "execution_count": null,
   "id": "fd6b7a39-94ed-413e-98e8-d6de4c78356f",
   "metadata": {
    "tags": []
   },
   "outputs": [
    {
     "data": {
      "text/plain": [
       "-2"
      ]
     },
     "execution_count": null,
     "metadata": {},
     "output_type": "execute_result"
    }
   ],
   "source": [
    "# Blocks that do not overlap will give negative values\n",
    "# indicating the nearest distance\n",
    "cm.block_overlap_length((5, 7), (9, 13))"
   ]
  },
  {
   "cell_type": "markdown",
   "id": "82343c30-3439-4bac-9ca3-41b805b63cf4",
   "metadata": {},
   "source": [
    "## Region Blocks"
   ]
  },
  {
   "cell_type": "markdown",
   "id": "a41257df-0fcc-41ec-8da7-8900ace67629",
   "metadata": {},
   "source": [
    "Given an alignment, sometimes we want to know the positions along the reference of large mapping or deleted regions.\n",
    "Consider the example below:"
   ]
  },
  {
   "cell_type": "raw",
   "id": "72703804-8a5c-4e42-bdb3-d647939bbc91",
   "metadata": {},
   "source": [
    "POS0  000000000011111111112222222222\n",
    "POS1  012345678901234567890123456789\n",
    "\n",
    "CGS      MMMMMMMDDDMMMMDDDDDDMMMM"
   ]
  },
  {
   "cell_type": "code",
   "execution_count": null,
   "id": "02efd4bb-d709-45ea-a03c-0a608a660de4",
   "metadata": {
    "tags": []
   },
   "outputs": [],
   "source": [
    "cigartuples = cm.cigarstr2tup('7M3D4M6D4M')"
   ]
  },
  {
   "cell_type": "markdown",
   "id": "77ebb6a8-f215-4363-8603-9ba03f9e18a1",
   "metadata": {},
   "source": [
    "If we wanted to know the regions that _map_ to the genome we can use `reference_mapping_blocks`"
   ]
  },
  {
   "cell_type": "code",
   "execution_count": null,
   "id": "de49b566-68e0-4969-b0eb-01b6809c49fd",
   "metadata": {
    "tags": []
   },
   "outputs": [
    {
     "data": {
      "text/plain": [
       "[(0, 7), (10, 14), (20, 24)]"
      ]
     },
     "execution_count": null,
     "metadata": {},
     "output_type": "execute_result"
    }
   ],
   "source": [
    "# Consider any sized deletion\n",
    "list(cm.reference_mapping_blocks(cigartuples, deletion_split=1))"
   ]
  },
  {
   "cell_type": "code",
   "execution_count": null,
   "id": "e4b9f92c-38e4-46ca-b7a1-5c30bdcbbb8c",
   "metadata": {
    "tags": []
   },
   "outputs": [
    {
     "data": {
      "text/plain": [
       "[(0, 14), (20, 24)]"
      ]
     },
     "execution_count": null,
     "metadata": {},
     "output_type": "execute_result"
    }
   ],
   "source": [
    "# Consider only larger deletions\n",
    "list(cm.reference_mapping_blocks(cigartuples, deletion_split=5))"
   ]
  },
  {
   "cell_type": "markdown",
   "id": "bc14edcd-64b0-4bac-8b71-865900b20285",
   "metadata": {},
   "source": [
    "The converse is also available."
   ]
  },
  {
   "cell_type": "code",
   "execution_count": null,
   "id": "6dd10e0b-0096-4a74-bb46-e8bc48d95cf8",
   "metadata": {
    "tags": []
   },
   "outputs": [
    {
     "data": {
      "text/plain": [
       "[(7, 10), (14, 20)]"
      ]
     },
     "execution_count": null,
     "metadata": {},
     "output_type": "execute_result"
    }
   ],
   "source": [
    "# Consider any sized deletion\n",
    "list(cm.reference_deletion_blocks(cigartuples, min_size=1))"
   ]
  },
  {
   "cell_type": "code",
   "execution_count": null,
   "id": "1efd6902-f6ae-4fb6-beff-f1b33609ba63",
   "metadata": {
    "tags": []
   },
   "outputs": [
    {
     "data": {
      "text/plain": [
       "[(14, 20)]"
      ]
     },
     "execution_count": null,
     "metadata": {},
     "output_type": "execute_result"
    }
   ],
   "source": [
    "# Consider only large deletions\n",
    "list(cm.reference_deletion_blocks(cigartuples, min_size=5))"
   ]
  },
  {
   "cell_type": "code",
   "execution_count": null,
   "id": "fd372ee2-bdb7-4afe-b191-98d2d1953e0c",
   "metadata": {},
   "outputs": [],
   "source": []
  }
 ],
 "metadata": {
  "kernelspec": {
   "display_name": "Python 3 (ipykernel)",
   "language": "python",
   "name": "python3"
  },
  "language_info": {
   "codemirror_mode": {
    "name": "ipython",
    "version": 3
   },
   "file_extension": ".py",
   "mimetype": "text/x-python",
   "name": "python",
   "nbconvert_exporter": "python",
   "pygments_lexer": "ipython3",
   "version": "3.9.15"
  }
 },
 "nbformat": 4,
 "nbformat_minor": 5
}
